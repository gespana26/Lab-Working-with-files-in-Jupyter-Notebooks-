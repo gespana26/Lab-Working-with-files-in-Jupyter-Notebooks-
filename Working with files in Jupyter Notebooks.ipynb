{
 "cells": [
  {
   "cell_type": "markdown",
   "id": "10b21de0-c325-437f-97cf-43b6f13261cb",
   "metadata": {},
   "source": [
    "# Data Science Tools and Ecosystem"
   ]
  },
  {
   "cell_type": "markdown",
   "id": "7a16dff1-7236-4764-9804-9dbad3609b3a",
   "metadata": {},
   "source": [
    "# Introduction\n",
    "\n",
    "In this notebook, Data Science Tools, popular languajes and practice and a sample of how to join Jupyter.\n"
   ]
  },
  {
   "cell_type": "markdown",
   "id": "60b88357-b097-4a63-85df-101dd75bc552",
   "metadata": {},
   "source": [
    "**Objetives:**\n",
    "* Remember the popular languages for data science.\n",
    "* Remember libraries used by Data Scientists.\n",
    "* Practise arithmetic expressions"
   ]
  },
  {
   "cell_type": "markdown",
   "id": "633d76dc-87e1-4af7-bb6b-b3b5f73e1611",
   "metadata": {},
   "source": [
    "Some of the popular languages for data science are:\n",
    "\n",
    "1. Python\n",
    "2. R\n",
    "3. SQL\n",
    "4. Scala\n",
    "5. Java\n",
    "6. C++\n",
    "7. Julia"
   ]
  },
  {
   "cell_type": "markdown",
   "id": "56dc6524-d782-4789-84ad-a758cecac085",
   "metadata": {},
   "source": [
    "Some of the commonly used Python libraries used by Data Scientists are:\n",
    " * Python\n",
    " * Pandas\n",
    " * NumPy\n",
    " * SciPy\n",
    " * Matplotlib"
   ]
  },
  {
   "cell_type": "markdown",
   "id": "c5453964-32d8-4ee2-8bed-118db024f083",
   "metadata": {},
   "source": [
    "| Data Science Tools | \n",
    "|:--------:|\n",
    "|  Postgres   |\n",
    "|  Apache Cassandra   |\n",
    "|  Git Hub   |"
   ]
  },
  {
   "cell_type": "markdown",
   "id": "e3c0b095-8721-46ba-bfe7-ab42039a1635",
   "metadata": {},
   "source": [
    "### Below are a few examples of evaluating arithmetic expressions in Python"
   ]
  },
  {
   "cell_type": "code",
   "execution_count": 3,
   "id": "eb456a7a-1535-4e59-af68-f6e7308eb1fd",
   "metadata": {},
   "outputs": [
    {
     "data": {
      "text/plain": [
       "17"
      ]
     },
     "execution_count": 3,
     "metadata": {},
     "output_type": "execute_result"
    }
   ],
   "source": [
    "# This a simple arithmetic expression to multiply then add integers\n",
    "(3*4)+5"
   ]
  },
  {
   "cell_type": "code",
   "execution_count": 4,
   "id": "b716c0e9-f8fd-400c-b6b1-2199e9019b8b",
   "metadata": {},
   "outputs": [
    {
     "data": {
      "text/plain": [
       "3.3333333333333335"
      ]
     },
     "execution_count": 4,
     "metadata": {},
     "output_type": "execute_result"
    }
   ],
   "source": [
    "#This will convert 200 minutes to hours by diving by 60\n",
    "200/60"
   ]
  },
  {
   "cell_type": "markdown",
   "id": "eed7a713-3a24-445a-bba6-8852d11d6d83",
   "metadata": {},
   "source": [
    "## Author\n",
    "\n",
    "Gustavo España"
   ]
  }
 ],
 "metadata": {
  "kernelspec": {
   "display_name": "Python 3 (ipykernel)",
   "language": "python",
   "name": "python3"
  },
  "language_info": {
   "codemirror_mode": {
    "name": "ipython",
    "version": 3
   },
   "file_extension": ".py",
   "mimetype": "text/x-python",
   "name": "python",
   "nbconvert_exporter": "python",
   "pygments_lexer": "ipython3",
   "version": "3.11.9"
  }
 },
 "nbformat": 4,
 "nbformat_minor": 5
}
